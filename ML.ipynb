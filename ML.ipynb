{
  "nbformat": 4,
  "nbformat_minor": 0,
  "metadata": {
    "colab": {
      "name": "ML.ipynb",
      "provenance": [],
      "collapsed_sections": []
    },
    "kernelspec": {
      "name": "python3",
      "display_name": "Python 3"
    },
    "language_info": {
      "name": "python"
    }
  },
  "cells": [
    {
      "cell_type": "code",
      "metadata": {
        "colab": {
          "base_uri": "https://localhost:8080/"
        },
        "id": "iKavJMuwJu7i",
        "outputId": "c3651b6e-2311-43bc-aec1-442ac92110fa"
      },
      "source": [
        "from google.colab import drive\n",
        "drive.mount('/content/drive')"
      ],
      "execution_count": 294,
      "outputs": [
        {
          "output_type": "stream",
          "text": [
            "Drive already mounted at /content/drive; to attempt to forcibly remount, call drive.mount(\"/content/drive\", force_remount=True).\n"
          ],
          "name": "stdout"
        }
      ]
    },
    {
      "cell_type": "code",
      "metadata": {
        "id": "NrI-CjZtLVbM"
      },
      "source": [
        "import numpy as np\n",
        "import pandas as pd\n",
        "from scipy.sparse import hstack"
      ],
      "execution_count": 327,
      "outputs": []
    },
    {
      "cell_type": "code",
      "metadata": {
        "id": "uec56EL3LFTh"
      },
      "source": [
        "df_train = pd.read_csv(\"drive/My Drive/UST/6000H/ml4nlp-argimpact/train.csv\")\n",
        "df_test = pd.read_csv(\"drive/My Drive/UST/6000H/ml4nlp-argimpact/test.csv\")\n",
        "df_valid = pd.read_csv(\"drive/My Drive/UST/6000H/ml4nlp-argimpact/valid.csv\")"
      ],
      "execution_count": 303,
      "outputs": []
    },
    {
      "cell_type": "code",
      "metadata": {
        "id": "iFssvBvwLLSH"
      },
      "source": [
        "# df_train = df_train.append(df_valid)"
      ],
      "execution_count": 304,
      "outputs": []
    },
    {
      "cell_type": "code",
      "metadata": {
        "id": "PULuW2kQL0e_"
      },
      "source": [
        "class_names = df_train.impact_label.unique().tolist()"
      ],
      "execution_count": 305,
      "outputs": []
    },
    {
      "cell_type": "code",
      "metadata": {
        "id": "Z7K1fwJYRwaG"
      },
      "source": [
        "df_train['text'] = df_train.apply(lambda row: eval(row.context)[-1] + ' ' + row.text, axis=1)\n",
        "df_test['text'] = df_test.apply(lambda row: eval(row.context)[-1] + ' ' + row.text, axis=1)\n",
        "df_valid['text'] = df_valid.apply(lambda row: eval(row.context)[-1] + ' ' + row.text, axis=1)"
      ],
      "execution_count": 306,
      "outputs": []
    },
    {
      "cell_type": "code",
      "metadata": {
        "id": "wHsadZnvcDM8"
      },
      "source": [
        "df_train['impact_label'] = df_train.impact_label.map({\"NOT_IMPACTFUL\": 0, \"MEDIUM_IMPACT\": 1, \"IMPACTFUL\": 2})\n",
        "df_valid['impact_label'] = df_valid.impact_label.map({\"NOT_IMPACTFUL\": 0, \"MEDIUM_IMPACT\": 1, \"IMPACTFUL\": 2})"
      ],
      "execution_count": 312,
      "outputs": []
    },
    {
      "cell_type": "code",
      "metadata": {
        "id": "zebwi3jvd8Wb"
      },
      "source": [
        "df_train['previous_argument_type'] = df_train['stance_label'].apply(lambda x: eval(x)[-1])\n",
        "df_test['previous_argument_type'] = df_test['stance_label'].apply(lambda x: eval(x)[-1])\n",
        "df_valid['previous_argument_type'] = df_valid['stance_label'].apply(lambda x: eval(x)[-1])"
      ],
      "execution_count": 328,
      "outputs": []
    },
    {
      "cell_type": "code",
      "metadata": {
        "id": "3nO-2WlleADV"
      },
      "source": [
        "df_train['previous_argument_type'] = df_train.previous_argument_type.map({\"OPPOSE\": 0, \"SUPPORT\": 1})\n",
        "df_test['previous_argument_type'] = df_test.previous_argument_type.map({\"OPPOSE\": 0, \"SUPPORT\": 1})\n",
        "df_valid['previous_argument_type'] = df_valid.previous_argument_type.map({\"OPPOSE\": 0, \"SUPPORT\": 1})"
      ],
      "execution_count": 329,
      "outputs": []
    },
    {
      "cell_type": "code",
      "metadata": {
        "id": "_uH5mzOVeECm"
      },
      "source": [
        "X_train = hstack((X_train, df_train['previous_argument_type'].to_numpy()[:, None]))"
      ],
      "execution_count": null,
      "outputs": []
    },
    {
      "cell_type": "code",
      "metadata": {
        "id": "Meg3SKu_Vm7A"
      },
      "source": [
        "from sklearn.feature_extraction.text import TfidfVectorizer\n",
        "from sklearn.feature_extraction.text import CountVectorizer\n",
        "from sklearn.linear_model import SGDClassifier\n",
        "from sklearn.pipeline import Pipeline, FeatureUnion\n",
        "from sklearn import metrics"
      ],
      "execution_count": 339,
      "outputs": []
    },
    {
      "cell_type": "code",
      "metadata": {
        "id": "28vRhhbPYuKX"
      },
      "source": [
        "text_clf = Pipeline([\n",
        "    ('feats', FeatureUnion([\n",
        "        ('vect', CountVectorizer()),\n",
        "        # ('tfidf', TfidfVectorizer()),\n",
        "    ])),\n",
        "    ('clf', SGDClassifier(loss='hinge', penalty='l2',\n",
        "                          alpha=1e-3, random_state=42,\n",
        "                          max_iter=5, tol=None)),\n",
        "])"
      ],
      "execution_count": 356,
      "outputs": []
    },
    {
      "cell_type": "code",
      "metadata": {
        "colab": {
          "base_uri": "https://localhost:8080/"
        },
        "id": "n9t9mDHZb9fa",
        "outputId": "a1c9ef04-f9df-4034-eb9a-37bb8d2101d2"
      },
      "source": [
        "text_clf.fit(df_train.text.to_numpy(), df_train.impact_label.to_numpy())"
      ],
      "execution_count": 357,
      "outputs": [
        {
          "output_type": "execute_result",
          "data": {
            "text/plain": [
              "Pipeline(memory=None,\n",
              "         steps=[('feats',\n",
              "                 FeatureUnion(n_jobs=None,\n",
              "                              transformer_list=[('vect',\n",
              "                                                 CountVectorizer(analyzer='word',\n",
              "                                                                 binary=False,\n",
              "                                                                 decode_error='strict',\n",
              "                                                                 dtype=<class 'numpy.int64'>,\n",
              "                                                                 encoding='utf-8',\n",
              "                                                                 input='content',\n",
              "                                                                 lowercase=True,\n",
              "                                                                 max_df=1.0,\n",
              "                                                                 max_features=None,\n",
              "                                                                 min_df=1,\n",
              "                                                                 ngram_range=(1,\n",
              "                                                                              1),\n",
              "                                                                 preprocessor=None,\n",
              "                                                                 stop_words=None,\n",
              "                                                                 strip_accents=None,\n",
              "                                                                 token_patte...\n",
              "                ('clf',\n",
              "                 SGDClassifier(alpha=0.001, average=False, class_weight=None,\n",
              "                               early_stopping=False, epsilon=0.1, eta0=0.0,\n",
              "                               fit_intercept=True, l1_ratio=0.15,\n",
              "                               learning_rate='optimal', loss='hinge',\n",
              "                               max_iter=5, n_iter_no_change=5, n_jobs=None,\n",
              "                               penalty='l2', power_t=0.5, random_state=42,\n",
              "                               shuffle=True, tol=None, validation_fraction=0.1,\n",
              "                               verbose=0, warm_start=False))],\n",
              "         verbose=False)"
            ]
          },
          "metadata": {
            "tags": []
          },
          "execution_count": 357
        }
      ]
    },
    {
      "cell_type": "code",
      "metadata": {
        "id": "QoLvWUClcIa8"
      },
      "source": [
        "validation_pred = text_clf.predict(df_valid.text.to_numpy())"
      ],
      "execution_count": 358,
      "outputs": []
    },
    {
      "cell_type": "code",
      "metadata": {
        "colab": {
          "base_uri": "https://localhost:8080/"
        },
        "id": "34T99Gv4crEg",
        "outputId": "d83e6a21-7fd1-4bbf-d4d8-baa99373eb8c"
      },
      "source": [
        "print(f\"F-1 score: {metrics.f1_score(df_valid.impact_label.to_numpy(), validation_pred, average='macro')}\")"
      ],
      "execution_count": 359,
      "outputs": [
        {
          "output_type": "stream",
          "text": [
            "F-1 score: 0.5263277824953437\n"
          ],
          "name": "stdout"
        }
      ]
    },
    {
      "cell_type": "code",
      "metadata": {
        "colab": {
          "base_uri": "https://localhost:8080/",
          "height": 69
        },
        "id": "rQGhHgktcOIW",
        "outputId": "849be6bb-830a-4bc4-8209-ee552b295703"
      },
      "source": [
        "metrics.classification_report(df_valid.impact_label.to_numpy(), validation_pred, target_names=class_names)"
      ],
      "execution_count": 346,
      "outputs": [
        {
          "output_type": "execute_result",
          "data": {
            "application/vnd.google.colaboratory.intrinsic+json": {
              "type": "string"
            },
            "text/plain": [
              "'               precision    recall  f1-score   support\\n\\nMEDIUM_IMPACT       0.41      0.29      0.34       252\\n    IMPACTFUL       0.50      0.56      0.53       215\\nNOT_IMPACTFUL       0.69      0.73      0.71       641\\n\\n     accuracy                           0.60      1108\\n    macro avg       0.53      0.53      0.53      1108\\n weighted avg       0.59      0.60      0.59      1108\\n'"
            ]
          },
          "metadata": {
            "tags": []
          },
          "execution_count": 346
        }
      ]
    },
    {
      "cell_type": "code",
      "metadata": {
        "id": "6eIVC44lMAFU"
      },
      "source": [
        "# # add previous argument type to the feature set\n",
        "# X_train = hstack((X_train, df_train['previous_argument_type'].to_numpy()[:, None]))"
      ],
      "execution_count": 257,
      "outputs": []
    },
    {
      "cell_type": "code",
      "metadata": {
        "id": "i8cb1C2ES2U9"
      },
      "source": [
        "from sklearn.naive_bayes import MultinomialNB\n",
        "from sklearn.model_selection import GridSearchCV"
      ],
      "execution_count": 258,
      "outputs": []
    },
    {
      "cell_type": "code",
      "metadata": {
        "id": "8NGjO5MHUH7z"
      },
      "source": [
        "# clf = MultinomialNB()\n",
        "gs_clf = GridSearchCV(text_clf, {}, cv=5, n_jobs=-1, verbose=1)"
      ],
      "execution_count": 280,
      "outputs": []
    },
    {
      "cell_type": "code",
      "metadata": {
        "colab": {
          "base_uri": "https://localhost:8080/"
        },
        "id": "utWsjzCtUQvZ",
        "outputId": "63ef3a1c-ff19-4467-e952-5b0def106e3e"
      },
      "source": [
        "gs_clf.fit(df_train.text.to_numpy(), df_train.impact_label.to_numpy())"
      ],
      "execution_count": 281,
      "outputs": [
        {
          "output_type": "stream",
          "text": [
            "Fitting 5 folds for each of 1 candidates, totalling 5 fits\n"
          ],
          "name": "stdout"
        },
        {
          "output_type": "stream",
          "text": [
            "[Parallel(n_jobs=-1)]: Using backend LokyBackend with 2 concurrent workers.\n",
            "[Parallel(n_jobs=-1)]: Done   5 out of   5 | elapsed:    2.1s finished\n"
          ],
          "name": "stderr"
        },
        {
          "output_type": "execute_result",
          "data": {
            "text/plain": [
              "GridSearchCV(cv=5, error_score=nan,\n",
              "             estimator=Pipeline(memory=None,\n",
              "                                steps=[('vect',\n",
              "                                        CountVectorizer(analyzer='word',\n",
              "                                                        binary=False,\n",
              "                                                        decode_error='strict',\n",
              "                                                        dtype=<class 'numpy.int64'>,\n",
              "                                                        encoding='utf-8',\n",
              "                                                        input='content',\n",
              "                                                        lowercase=True,\n",
              "                                                        max_df=1.0,\n",
              "                                                        max_features=None,\n",
              "                                                        min_df=1,\n",
              "                                                        ngram_range=(1, 1),\n",
              "                                                        preprocessor=None,\n",
              "                                                        stop_words=None,\n",
              "                                                        strip_accents=None,\n",
              "                                                        token_pattern='(?u)\\\\b\\\\w\\\\w+\\\\b',\n",
              "                                                        tokenizer=None,\n",
              "                                                        vocabulary=None)),\n",
              "                                       ('tfidf',\n",
              "                                        TfidfTransformer(norm='l2',\n",
              "                                                         smooth_idf=True,\n",
              "                                                         sublinear_tf=False,\n",
              "                                                         use_idf=True)),\n",
              "                                       ('clf',\n",
              "                                        MultinomialNB(alpha=1.0,\n",
              "                                                      class_prior=None,\n",
              "                                                      fit_prior=True))],\n",
              "                                verbose=False),\n",
              "             iid='deprecated', n_jobs=-1, param_grid={},\n",
              "             pre_dispatch='2*n_jobs', refit=True, return_train_score=False,\n",
              "             scoring=None, verbose=1)"
            ]
          },
          "metadata": {
            "tags": []
          },
          "execution_count": 281
        }
      ]
    },
    {
      "cell_type": "code",
      "metadata": {
        "colab": {
          "base_uri": "https://localhost:8080/"
        },
        "id": "IiR5Sv_AZKD5",
        "outputId": "2e9e383a-6b8e-4bbe-cd06-14edabe4ca5b"
      },
      "source": [
        "gs_clf.cv_results_"
      ],
      "execution_count": 282,
      "outputs": [
        {
          "output_type": "execute_result",
          "data": {
            "text/plain": [
              "{'mean_fit_time': array([0.35956101]),\n",
              " 'mean_score_time': array([0.08494029]),\n",
              " 'mean_test_score': array([0.58505849]),\n",
              " 'params': [{}],\n",
              " 'rank_test_score': array([1], dtype=int32),\n",
              " 'split0_test_score': array([0.58519108]),\n",
              " 'split1_test_score': array([0.58678344]),\n",
              " 'split2_test_score': array([0.58598726]),\n",
              " 'split3_test_score': array([0.58406375]),\n",
              " 'split4_test_score': array([0.58326693]),\n",
              " 'std_fit_time': array([0.05721224]),\n",
              " 'std_score_time': array([0.01751287]),\n",
              " 'std_test_score': array([0.00126924])}"
            ]
          },
          "metadata": {
            "tags": []
          },
          "execution_count": 282
        }
      ]
    },
    {
      "cell_type": "code",
      "metadata": {
        "id": "idiuoNrjVh_I"
      },
      "source": [
        "predictions = gs_clf.predict(df_test.text.to_numpy())"
      ],
      "execution_count": 283,
      "outputs": []
    },
    {
      "cell_type": "code",
      "metadata": {
        "id": "18_AZI4PWVc4"
      },
      "source": [
        "submission = df_test[['id']]"
      ],
      "execution_count": 289,
      "outputs": []
    },
    {
      "cell_type": "code",
      "metadata": {
        "colab": {
          "base_uri": "https://localhost:8080/"
        },
        "id": "hhVe4MAFYBXh",
        "outputId": "aaec2a8d-114c-4946-9bdf-a1e65f834861"
      },
      "source": [
        "submission['pred'] = predictions"
      ],
      "execution_count": 290,
      "outputs": [
        {
          "output_type": "stream",
          "text": [
            "/usr/local/lib/python3.7/dist-packages/ipykernel_launcher.py:1: SettingWithCopyWarning: \n",
            "A value is trying to be set on a copy of a slice from a DataFrame.\n",
            "Try using .loc[row_indexer,col_indexer] = value instead\n",
            "\n",
            "See the caveats in the documentation: https://pandas.pydata.org/pandas-docs/stable/user_guide/indexing.html#returning-a-view-versus-a-copy\n",
            "  \"\"\"Entry point for launching an IPython kernel.\n"
          ],
          "name": "stderr"
        }
      ]
    },
    {
      "cell_type": "code",
      "metadata": {
        "id": "7vOuwptsYC7d"
      },
      "source": [
        "submission.to_csv('drive/My Drive/UST/6000H/bayes.csv', index=False)"
      ],
      "execution_count": 292,
      "outputs": []
    }
  ]
}