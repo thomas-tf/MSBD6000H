{
 "cells": [
  {
   "cell_type": "code",
   "execution_count": 1,
   "metadata": {
    "colab": {
     "base_uri": "https://localhost:8080/"
    },
    "id": "iKavJMuwJu7i",
    "outputId": "222bf974-c158-4fde-f381-7e5e696f2030"
   },
   "outputs": [],
   "source": [
    "from collections import Counter\n",
    "from functools import reduce\n",
    "import os.path as osp\n",
    "import ast\n",
    "import math\n",
    "from itertools import chain\n",
    "from sklearn.model_selection import StratifiedKFold\n",
    "from scipy.sparse import coo_matrix\n",
    "import lightgbm as lgb\n",
    "import xgboost as xgb\n",
    "import catboost as ctb"
   ]
  },
  {
   "cell_type": "code",
   "execution_count": 2,
   "metadata": {
    "colab": {
     "base_uri": "https://localhost:8080/"
    },
    "id": "NrI-CjZtLVbM",
    "outputId": "2bb81b3b-09f3-44a2-dd3c-65a4cc37cbef"
   },
   "outputs": [
    {
     "name": "stderr",
     "output_type": "stream",
     "text": [
      "/usr/local/lib/python3.6/dist-packages/gensim/similarities/__init__.py:15: UserWarning: The gensim.similarities.levenshtein submodule is disabled, because the optional Levenshtein package <https://pypi.org/project/python-Levenshtein/> is unavailable. Install Levenhstein (e.g. `pip install python-Levenshtein`) to suppress this warning.\n",
      "  warnings.warn(msg)\n",
      "[nltk_data] Downloading package stopwords to /home/alexch/nltk_data...\n",
      "[nltk_data]   Package stopwords is already up-to-date!\n",
      "[nltk_data] Downloading package punkt to /home/alexch/nltk_data...\n",
      "[nltk_data]   Package punkt is already up-to-date!\n"
     ]
    },
    {
     "data": {
      "text/plain": [
       "True"
      ]
     },
     "execution_count": 2,
     "metadata": {},
     "output_type": "execute_result"
    }
   ],
   "source": [
    "import numpy as np\n",
    "import pandas as pd\n",
    "import nltk\n",
    "import unicodedata\n",
    "import re\n",
    "import numpy as np\n",
    "from numpy import dot\n",
    "from numpy.linalg import norm\n",
    "from gensim.models import Word2Vec\n",
    "from nltk import word_tokenize\n",
    "from scipy.sparse import hstack\n",
    "from nltk.corpus import stopwords\n",
    "\n",
    "nltk.download('stopwords')\n",
    "nltk.download('punkt')"
   ]
  },
  {
   "cell_type": "code",
   "execution_count": 3,
   "metadata": {
    "id": "uec56EL3LFTh"
   },
   "outputs": [],
   "source": [
    "train_df = pd.read_csv(\"../input/train.csv\")\n",
    "valid_df = pd.read_csv(\"../input/valid.csv\")\n",
    "test_df = pd.read_csv(\"../input/test.csv\")\n",
    "trainval_df = train_df.append(valid_df, ignore_index=True)\n",
    "sample_df = pd.read_csv('../input/submission_sample.csv')"
   ]
  },
  {
   "cell_type": "code",
   "execution_count": 4,
   "metadata": {},
   "outputs": [],
   "source": [
    "stance_encoder = {'OPPOSE': -1, 'NULL': 0, 'SUPPORT': 1}\n",
    "stance_decoder = {-1: 'OPPOSE', 0: 'NULL', 1: 'SUPPORT'}\n",
    "impact_encoder = {'UNKNOWN': -1, 'NOT_IMPACTFUL': 0, 'MEDIUM_IMPACT': 1, 'IMPACTFUL': 2}\n",
    "impact_decoder = {-1: 'UNKNOWN', 0: 'NOT_IMPACTFUL', 1: 'MEDIUM_IMPACT', 2: 'IMPACTFUL'}"
   ]
  },
  {
   "cell_type": "code",
   "execution_count": 5,
   "metadata": {},
   "outputs": [],
   "source": [
    "def seperate_data(df):\n",
    "    index = []\n",
    "    text = []\n",
    "    stance_label = []\n",
    "    impact_label = []\n",
    "    for i, row in df.iterrows():\n",
    "        index.append(row['id'])\n",
    "        example_text = [row['text']] + ast.literal_eval(row['context'])     \n",
    "        stance_str = \" \".join(ast.literal_eval(row['stance_label'])[1:])\n",
    "        \n",
    "        text.append(example_text)\n",
    "        stance_label.append(stance_str)\n",
    "        impact_label.append(impact_encoder[row['impact_label']])\n",
    "    \n",
    "    text = [\" \".join(sentence) for sentence in text]\n",
    "    return np.array(index), np.array(text), np.array(stance_label), np.array(impact_label)"
   ]
  },
  {
   "cell_type": "code",
   "execution_count": 6,
   "metadata": {
    "id": "iFssvBvwLLSH"
   },
   "outputs": [],
   "source": [
    "train_ids, train_texts, train_stance, train_labels = seperate_data(train_df)\n",
    "valid_ids, valid_texts, valid_stance, valid_labels = seperate_data(valid_df)\n",
    "trainval_ids, trainval_texts, trainval_stance, trainval_labels = seperate_data(trainval_df)\n",
    "test_ids, test_texts, test_stance, test_labels = seperate_data(test_df)"
   ]
  },
  {
   "cell_type": "code",
   "execution_count": 7,
   "metadata": {
    "id": "PULuW2kQL0e_"
   },
   "outputs": [],
   "source": [
    "class_names = train_df.impact_label.unique().tolist()"
   ]
  },
  {
   "cell_type": "code",
   "execution_count": null,
   "metadata": {
    "id": "Z7K1fwJYRwaG"
   },
   "outputs": [],
   "source": []
  },
  {
   "cell_type": "code",
   "execution_count": null,
   "metadata": {
    "id": "wHsadZnvcDM8"
   },
   "outputs": [],
   "source": []
  },
  {
   "cell_type": "code",
   "execution_count": 8,
   "metadata": {
    "id": "Meg3SKu_Vm7A"
   },
   "outputs": [],
   "source": [
    "from sklearn.feature_extraction.text import TfidfVectorizer, CountVectorizer\n",
    "from sklearn.linear_model import SGDClassifier\n",
    "from sklearn.ensemble import RandomForestClassifier\n",
    "from sklearn import metrics"
   ]
  },
  {
   "cell_type": "code",
   "execution_count": 9,
   "metadata": {
    "id": "JTXMtM7KSy2D"
   },
   "outputs": [],
   "source": [
    "# text_count_vect = CountVectorizer(lowercase=True, stop_words=\"english\", ngram_range=(1, 4), min_df=0.005)\n",
    "# stance_count_vect = CountVectorizer(lowercase=True, ngram_range=(1, 5))"
   ]
  },
  {
   "cell_type": "code",
   "execution_count": 10,
   "metadata": {
    "id": "Yk9yLvBgS2aW"
   },
   "outputs": [],
   "source": [
    "# X_train = text_count_vect.fit_transform(train_texts)\n",
    "# X_valid = text_count_vect.transform(valid_texts)\n",
    "# X_trainval = text_count_vect.transform(trainval_texts)\n",
    "# X_test = text_count_vect.transform(test_texts)"
   ]
  },
  {
   "cell_type": "code",
   "execution_count": 11,
   "metadata": {
    "id": "KlKUEftD8zH8"
   },
   "outputs": [],
   "source": [
    "# train_context_count_vect = context_count_vect.fit_transform(df_train['context'].to_numpy())\n",
    "# valid_context_count_vect = context_count_vect.transform(df_valid['context'].to_numpy())\n",
    "# test_context_count_vect = context_count_vect.transform(df_test['context'].to_numpy())"
   ]
  },
  {
   "cell_type": "code",
   "execution_count": 12,
   "metadata": {
    "id": "i64IP4Ie7oS2"
   },
   "outputs": [],
   "source": [
    "# train_stance_vec = stance_count_vect.fit_transform(train_stance)\n",
    "# valid_stance_vec = stance_count_vect.transform(valid_stance)\n",
    "# trainval_stance_vec = stance_count_vect.transform(trainval_stance)\n",
    "# test_stance_vec = stance_count_vect.transform(test_stance)"
   ]
  },
  {
   "cell_type": "code",
   "execution_count": 13,
   "metadata": {
    "id": "Md3BaX_JECzJ"
   },
   "outputs": [],
   "source": [
    "# tfidf_text = TfidfVectorizer(max_features = 10000, ngram_range=(1,4))\n",
    "# tfidf_context = TfidfVectorizer(max_features = 10000, ngram_range=(1,4))"
   ]
  },
  {
   "cell_type": "code",
   "execution_count": 14,
   "metadata": {
    "id": "thhq4w1QCeBh"
   },
   "outputs": [],
   "source": [
    "# train_text_tfidf_vect = tfidf_text.fit_transform(train_texts)\n",
    "# valid_text_tfidf_vect = tfidf_text.transform(valid_texts)\n",
    "# trainval_text_tfidf_vect = tfidf_text.fit_transform(trainval_texts)\n",
    "# test_text_tfidf_vect = tfidf_text.transform(test_texts)"
   ]
  },
  {
   "cell_type": "code",
   "execution_count": 15,
   "metadata": {
    "id": "RfmBSynbEG2M"
   },
   "outputs": [],
   "source": [
    "# train_context_tfidf_vect = tfidf_context.fit_transform(df_train['context'].to_numpy())\n",
    "# valid_context_tfidf_vect = tfidf_context.transform(df_valid['context'].to_numpy())"
   ]
  },
  {
   "cell_type": "code",
   "execution_count": 16,
   "metadata": {
    "id": "75YhHljDTMkY"
   },
   "outputs": [],
   "source": [
    "# X_train = hstack((X_train, train_context_count_vect))\n",
    "# X_valid = hstack((X_valid, valid_context_count_vect))\n",
    "# # X_test = hstack((X_test, test_context_count_vect))\n",
    "\n",
    "# X_train = hstack((X_train, train_stance_vec))\n",
    "# X_valid = hstack((X_valid, valid_stance_vec))\n",
    "# X_trainval = hstack((X_trainval, trainval_stance_vec))\n",
    "# X_test = hstack((X_test, test_stance_vec))\n",
    "\n",
    "# X_train = hstack((X_train, train_text_tfidf_vect))\n",
    "# X_valid = hstack((X_valid, valid_text_tfidf_vect))\n",
    "\n",
    "# X_train = hstack((X_train, train_context_tfidf_vect))\n",
    "# X_valid = hstack((X_valid, valid_context_tfidf_vect))"
   ]
  },
  {
   "cell_type": "code",
   "execution_count": 17,
   "metadata": {
    "id": "tUFCyzG5JJ9g"
   },
   "outputs": [
    {
     "name": "stdout",
     "output_type": "stream",
     "text": [
      "RF F-1 score: 0.5834223519572839\n",
      "RF F-1 score: 0.598300844845681\n",
      "RF F-1 score: 0.5713338170367855\n",
      "RF F-1 score: 0.594878686255529\n",
      "RF F-1 score: 0.5821078061799164\n"
     ]
    }
   ],
   "source": [
    "fkold_test_pred = []\n",
    "skf = StratifiedKFold(n_splits=5)\n",
    "for i, (train_index, valid_index) in enumerate(skf.split(trainval_texts, trainval_labels)):\n",
    "    train_texts = trainval_texts[train_index]\n",
    "    train_stance = trainval_stance[train_index]\n",
    "    train_labels = trainval_labels[train_index]\n",
    "\n",
    "    valid_texts = trainval_texts[valid_index]\n",
    "    valid_stance = trainval_stance[valid_index]\n",
    "    valid_labels = trainval_labels[valid_index]\n",
    "\n",
    "    text_count_vect = CountVectorizer(lowercase=True, stop_words=\"english\", ngram_range=(1, 4), min_df=0.005)\n",
    "    stance_count_vect = CountVectorizer(lowercase=True, ngram_range=(1, 5))\n",
    "    \n",
    "    train_stance_vec = stance_count_vect.fit_transform(train_stance)\n",
    "    valid_stance_vec = stance_count_vect.transform(valid_stance)\n",
    "    test_stance_vec = stance_count_vect.transform(test_stance)\n",
    "    \n",
    "    X_train = text_count_vect.fit_transform(train_texts)\n",
    "    X_valid = text_count_vect.transform(valid_texts)\n",
    "    X_test = text_count_vect.transform(test_texts)\n",
    "\n",
    "    X_train = hstack((X_train, train_stance_vec))\n",
    "    X_valid = hstack((X_valid, valid_stance_vec))\n",
    "    X_test = hstack((X_test, test_stance_vec))\n",
    "    \n",
    "    rfc = RandomForestClassifier(random_state=20210402)\n",
    "    rfc.fit(X_train, train_labels)\n",
    "    valid_pred = rfc.predict(X_valid)\n",
    "    print(f\"RF F-1 score: {metrics.f1_score(valid_labels, valid_pred, average='macro')}\")\n",
    "    \n",
    "    test_pred = rfc.predict(X_test)\n",
    "    fkold_test_pred.append(test_pred)\n",
    "    "
   ]
  },
  {
   "cell_type": "code",
   "execution_count": 18,
   "metadata": {
    "colab": {
     "base_uri": "https://localhost:8080/"
    },
    "id": "fJs6QARRp5ht",
    "outputId": "9235e232-f8aa-4836-9d0d-a21ebb5b8290"
   },
   "outputs": [
    {
     "name": "stdout",
     "output_type": "stream",
     "text": [
      "Counter({2: 764, 1: 185, 0: 159})\n"
     ]
    }
   ],
   "source": [
    "from scipy import stats\n",
    "test_pred_mode = stats.mode(fkold_test_pred)\n",
    "print(Counter(test_pred_mode[0][0]))"
   ]
  },
  {
   "cell_type": "code",
   "execution_count": 19,
   "metadata": {
    "colab": {
     "base_uri": "https://localhost:8080/"
    },
    "id": "0iBfVlWuNjCO",
    "outputId": "b3002fec-f785-40fe-c99c-ad51afba2c94"
   },
   "outputs": [],
   "source": [
    "sample_df['pred'] = test_pred_mode[0][0]\n",
    "sample_df.to_csv('./rfc.csv', index=False)"
   ]
  },
  {
   "cell_type": "code",
   "execution_count": null,
   "metadata": {},
   "outputs": [],
   "source": []
  },
  {
   "cell_type": "code",
   "execution_count": null,
   "metadata": {
    "colab": {
     "base_uri": "https://localhost:8080/"
    },
    "id": "8qARjFJrrHxp",
    "outputId": "561a90cc-4cff-43f7-c66a-91405ca88e65"
   },
   "outputs": [],
   "source": []
  },
  {
   "cell_type": "code",
   "execution_count": 20,
   "metadata": {
    "id": "n9t9mDHZb9fa"
   },
   "outputs": [],
   "source": [
    "# text_clf.fit(df_train.text.to_numpy(), df_train.impact_label.to_numpy())"
   ]
  },
  {
   "cell_type": "code",
   "execution_count": null,
   "metadata": {
    "id": "QoLvWUClcIa8"
   },
   "outputs": [],
   "source": [
    "# validation_pred = text_clf.predict(df_valid.text.to_numpy())"
   ]
  },
  {
   "cell_type": "code",
   "execution_count": null,
   "metadata": {},
   "outputs": [],
   "source": []
  },
  {
   "cell_type": "code",
   "execution_count": null,
   "metadata": {
    "id": "34T99Gv4crEg"
   },
   "outputs": [],
   "source": [
    "# print(f\"F-1 score: {metrics.f1_score(df_valid.impact_label.to_numpy(), validation_pred, average='macro')}\")"
   ]
  },
  {
   "cell_type": "code",
   "execution_count": null,
   "metadata": {
    "id": "rQGhHgktcOIW"
   },
   "outputs": [],
   "source": [
    "# metrics.classification_report(df_valid.impact_label.to_numpy(), validation_pred, target_names=class_names)"
   ]
  },
  {
   "cell_type": "code",
   "execution_count": 28,
   "metadata": {
    "id": "i8cb1C2ES2U9"
   },
   "outputs": [],
   "source": [
    "from sklearn.model_selection import GridSearchCV"
   ]
  },
  {
   "cell_type": "code",
   "execution_count": 29,
   "metadata": {
    "id": "8NGjO5MHUH7z"
   },
   "outputs": [],
   "source": [
    "parameters = {\n",
    "    'n_estimators': [1000, 1200, 1500],\n",
    "    'max_depth': [16, 20, 24],\n",
    "}\n",
    "text_clf = RandomForestClassifier(random_state=20210402)\n",
    "gs_clf = GridSearchCV(text_clf, parameters, cv=5, n_jobs=-1, verbose=1)"
   ]
  },
  {
   "cell_type": "code",
   "execution_count": 30,
   "metadata": {
    "colab": {
     "base_uri": "https://localhost:8080/"
    },
    "id": "P2LmrFmH4hDi",
    "outputId": "e7af0551-4827-4215-951f-830ed1e10bad"
   },
   "outputs": [],
   "source": [
    "#gs_clf.fit(train_df.text.to_numpy(), train_df.impact_label.to_numpy())"
   ]
  },
  {
   "cell_type": "code",
   "execution_count": 31,
   "metadata": {
    "colab": {
     "base_uri": "https://localhost:8080/"
    },
    "id": "RlLkbB454pdL",
    "outputId": "82c9eb2d-3590-46a7-af0a-45607acdcc10"
   },
   "outputs": [],
   "source": [
    "#gs_clf.cv_results_"
   ]
  },
  {
   "cell_type": "code",
   "execution_count": null,
   "metadata": {
    "id": "1t5m1Dmy40Fd"
   },
   "outputs": [],
   "source": []
  },
  {
   "cell_type": "code",
   "execution_count": null,
   "metadata": {
    "colab": {
     "base_uri": "https://localhost:8080/"
    },
    "id": "bHBNBDE-43sx",
    "outputId": "5066585f-ba0c-41e8-965b-6ff8743d55ed"
   },
   "outputs": [],
   "source": []
  },
  {
   "cell_type": "code",
   "execution_count": 32,
   "metadata": {
    "colab": {
     "base_uri": "https://localhost:8080/"
    },
    "id": "utWsjzCtUQvZ",
    "outputId": "77c68ee5-e58d-4fae-c1ba-61ca330e6876"
   },
   "outputs": [],
   "source": [
    "#gs_clf.fit(df_train.text.to_numpy(), df_train.impact_label.to_numpy())"
   ]
  },
  {
   "cell_type": "code",
   "execution_count": 33,
   "metadata": {
    "colab": {
     "base_uri": "https://localhost:8080/"
    },
    "id": "IiR5Sv_AZKD5",
    "outputId": "6cae0c3c-d045-4dab-df24-382b54e68dd7"
   },
   "outputs": [],
   "source": [
    "#gs_clf.cv_results_"
   ]
  },
  {
   "cell_type": "code",
   "execution_count": 34,
   "metadata": {
    "id": "idiuoNrjVh_I"
   },
   "outputs": [],
   "source": [
    "#predictions = sgd.predict(X_test)"
   ]
  },
  {
   "cell_type": "code",
   "execution_count": 35,
   "metadata": {
    "id": "18_AZI4PWVc4"
   },
   "outputs": [],
   "source": [
    "#submission = df_test[['id']]"
   ]
  },
  {
   "cell_type": "code",
   "execution_count": 36,
   "metadata": {
    "colab": {
     "base_uri": "https://localhost:8080/"
    },
    "id": "hhVe4MAFYBXh",
    "outputId": "fa4c307f-7681-4cd1-8c3f-5a6bbc04d952"
   },
   "outputs": [],
   "source": [
    "#submission['pred'] = predictions"
   ]
  },
  {
   "cell_type": "code",
   "execution_count": 37,
   "metadata": {
    "id": "7vOuwptsYC7d"
   },
   "outputs": [],
   "source": [
    "#submission.to_csv('./sgd.csv', index=False)"
   ]
  },
  {
   "cell_type": "code",
   "execution_count": null,
   "metadata": {},
   "outputs": [],
   "source": []
  }
 ],
 "metadata": {
  "colab": {
   "collapsed_sections": [],
   "name": "ML.ipynb",
   "provenance": []
  },
  "kernelspec": {
   "display_name": "Python 3",
   "language": "python",
   "name": "python3"
  },
  "language_info": {
   "codemirror_mode": {
    "name": "ipython",
    "version": 3
   },
   "file_extension": ".py",
   "mimetype": "text/x-python",
   "name": "python",
   "nbconvert_exporter": "python",
   "pygments_lexer": "ipython3",
   "version": "3.6.9"
  }
 },
 "nbformat": 4,
 "nbformat_minor": 1
}
